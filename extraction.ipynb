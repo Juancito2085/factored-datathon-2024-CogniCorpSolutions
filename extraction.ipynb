{
 "cells": [
  {
   "cell_type": "code",
   "execution_count": null,
   "metadata": {},
   "outputs": [],
   "source": [
    "# URL where the columns are stored\n",
    "URL = 'https://www.gdeltproject.org/data/lookups/CSV.header.dailyupdates.txt'\n",
    "\n",
    "# Making a request to the URL\n",
    "response = requests.get(URL)\n",
    "\n",
    "# Checkin if the request was successful\n",
    "if response.status_code == 200:\n",
    "    # Get the content of the response\n",
    "    content = response.content\n",
    "\n",
    "    #Analise the content of the response\n",
    "    soup = BeautifulSoup(content, 'html.parser')\n",
    "\n",
    "    # Get the text of the response\n",
    "    print(soup.get_text())\n",
    "else:\n",
    "    print(f'Error: {response.status_code}')"
   ]
  }
 ],
 "metadata": {
  "language_info": {
   "name": "python"
  }
 },
 "nbformat": 4,
 "nbformat_minor": 2
}
